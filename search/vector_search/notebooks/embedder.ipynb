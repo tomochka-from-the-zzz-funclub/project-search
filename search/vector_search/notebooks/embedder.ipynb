{
 "cells": [
  {
   "cell_type": "code",
   "execution_count": 1,
   "metadata": {},
   "outputs": [
    {
     "name": "stderr",
     "output_type": "stream",
     "text": [
      "/Users/riter/anaconda3/envs/cinema/lib/python3.11/site-packages/tqdm/auto.py:21: TqdmWarning: IProgress not found. Please update jupyter and ipywidgets. See https://ipywidgets.readthedocs.io/en/stable/user_install.html\n",
      "  from .autonotebook import tqdm as notebook_tqdm\n"
     ]
    }
   ],
   "source": [
    "import pandas as pd\n",
    "\n",
    "from transformers import AutoTokenizer, AutoModel\n",
    "import torch"
   ]
  },
  {
   "cell_type": "code",
   "execution_count": 2,
   "metadata": {},
   "outputs": [],
   "source": [
    "df_movies = pd.read_csv('../../data/merged_movies.csv')"
   ]
  },
  {
   "cell_type": "code",
   "execution_count": 3,
   "metadata": {},
   "outputs": [
    {
     "data": {
      "text/html": [
       "<div>\n",
       "<style scoped>\n",
       "    .dataframe tbody tr th:only-of-type {\n",
       "        vertical-align: middle;\n",
       "    }\n",
       "\n",
       "    .dataframe tbody tr th {\n",
       "        vertical-align: top;\n",
       "    }\n",
       "\n",
       "    .dataframe thead th {\n",
       "        text-align: right;\n",
       "    }\n",
       "</style>\n",
       "<table border=\"1\" class=\"dataframe\">\n",
       "  <thead>\n",
       "    <tr style=\"text-align: right;\">\n",
       "      <th></th>\n",
       "      <th>movieId</th>\n",
       "      <th>title</th>\n",
       "      <th>genres</th>\n",
       "      <th>tmdbid</th>\n",
       "      <th>overview</th>\n",
       "      <th>production_countries</th>\n",
       "      <th>runtime</th>\n",
       "      <th>spoken_languages</th>\n",
       "      <th>vote_average</th>\n",
       "      <th>vote_count</th>\n",
       "    </tr>\n",
       "  </thead>\n",
       "  <tbody>\n",
       "    <tr>\n",
       "      <th>0</th>\n",
       "      <td>1</td>\n",
       "      <td>Toy Story (1995)</td>\n",
       "      <td>Adventure,Animation,Children,Comedy,Fantasy</td>\n",
       "      <td>862</td>\n",
       "      <td>Led by Woody, Andy's toys live happily in his ...</td>\n",
       "      <td>United States of America</td>\n",
       "      <td>81</td>\n",
       "      <td>English</td>\n",
       "      <td>8.0</td>\n",
       "      <td>18253</td>\n",
       "    </tr>\n",
       "    <tr>\n",
       "      <th>1</th>\n",
       "      <td>2</td>\n",
       "      <td>Jumanji (1995)</td>\n",
       "      <td>Adventure,Children,Fantasy</td>\n",
       "      <td>8844</td>\n",
       "      <td>When siblings Judy and Peter discover an encha...</td>\n",
       "      <td>United States of America</td>\n",
       "      <td>104</td>\n",
       "      <td>English,Français</td>\n",
       "      <td>7.2</td>\n",
       "      <td>10435</td>\n",
       "    </tr>\n",
       "    <tr>\n",
       "      <th>2</th>\n",
       "      <td>3</td>\n",
       "      <td>Grumpier Old Men (1995)</td>\n",
       "      <td>Comedy,Romance</td>\n",
       "      <td>15602</td>\n",
       "      <td>A family wedding reignites the ancient feud be...</td>\n",
       "      <td>United States of America</td>\n",
       "      <td>101</td>\n",
       "      <td>English</td>\n",
       "      <td>6.5</td>\n",
       "      <td>374</td>\n",
       "    </tr>\n",
       "    <tr>\n",
       "      <th>3</th>\n",
       "      <td>4</td>\n",
       "      <td>Waiting to Exhale (1995)</td>\n",
       "      <td>Comedy,Drama,Romance</td>\n",
       "      <td>31357</td>\n",
       "      <td>Cheated on, mistreated and stepped on, the wom...</td>\n",
       "      <td>United States of America</td>\n",
       "      <td>127</td>\n",
       "      <td>English</td>\n",
       "      <td>6.3</td>\n",
       "      <td>160</td>\n",
       "    </tr>\n",
       "    <tr>\n",
       "      <th>4</th>\n",
       "      <td>5</td>\n",
       "      <td>Father of the Bride Part II (1995)</td>\n",
       "      <td>Comedy</td>\n",
       "      <td>11862</td>\n",
       "      <td>Just when George Banks has recovered from his ...</td>\n",
       "      <td>United States of America</td>\n",
       "      <td>106</td>\n",
       "      <td>English</td>\n",
       "      <td>6.2</td>\n",
       "      <td>725</td>\n",
       "    </tr>\n",
       "  </tbody>\n",
       "</table>\n",
       "</div>"
      ],
      "text/plain": [
       "   movieId                               title  \\\n",
       "0        1                    Toy Story (1995)   \n",
       "1        2                      Jumanji (1995)   \n",
       "2        3             Grumpier Old Men (1995)   \n",
       "3        4            Waiting to Exhale (1995)   \n",
       "4        5  Father of the Bride Part II (1995)   \n",
       "\n",
       "                                        genres  tmdbid  \\\n",
       "0  Adventure,Animation,Children,Comedy,Fantasy     862   \n",
       "1                   Adventure,Children,Fantasy    8844   \n",
       "2                               Comedy,Romance   15602   \n",
       "3                         Comedy,Drama,Romance   31357   \n",
       "4                                       Comedy   11862   \n",
       "\n",
       "                                            overview  \\\n",
       "0  Led by Woody, Andy's toys live happily in his ...   \n",
       "1  When siblings Judy and Peter discover an encha...   \n",
       "2  A family wedding reignites the ancient feud be...   \n",
       "3  Cheated on, mistreated and stepped on, the wom...   \n",
       "4  Just when George Banks has recovered from his ...   \n",
       "\n",
       "       production_countries  runtime  spoken_languages  vote_average  \\\n",
       "0  United States of America       81           English           8.0   \n",
       "1  United States of America      104  English,Français           7.2   \n",
       "2  United States of America      101           English           6.5   \n",
       "3  United States of America      127           English           6.3   \n",
       "4  United States of America      106           English           6.2   \n",
       "\n",
       "   vote_count  \n",
       "0       18253  \n",
       "1       10435  \n",
       "2         374  \n",
       "3         160  \n",
       "4         725  "
      ]
     },
     "execution_count": 3,
     "metadata": {},
     "output_type": "execute_result"
    }
   ],
   "source": [
    "df_movies.head()"
   ]
  },
  {
   "cell_type": "code",
   "execution_count": 4,
   "metadata": {},
   "outputs": [
    {
     "data": {
      "text/html": [
       "<div>\n",
       "<style scoped>\n",
       "    .dataframe tbody tr th:only-of-type {\n",
       "        vertical-align: middle;\n",
       "    }\n",
       "\n",
       "    .dataframe tbody tr th {\n",
       "        vertical-align: top;\n",
       "    }\n",
       "\n",
       "    .dataframe thead th {\n",
       "        text-align: right;\n",
       "    }\n",
       "</style>\n",
       "<table border=\"1\" class=\"dataframe\">\n",
       "  <thead>\n",
       "    <tr style=\"text-align: right;\">\n",
       "      <th></th>\n",
       "      <th>movieId</th>\n",
       "      <th>tmdbid</th>\n",
       "      <th>runtime</th>\n",
       "      <th>vote_average</th>\n",
       "      <th>vote_count</th>\n",
       "    </tr>\n",
       "  </thead>\n",
       "  <tbody>\n",
       "    <tr>\n",
       "      <th>count</th>\n",
       "      <td>25483.000000</td>\n",
       "      <td>25483.000000</td>\n",
       "      <td>25483.000000</td>\n",
       "      <td>25483.000000</td>\n",
       "      <td>25483.000000</td>\n",
       "    </tr>\n",
       "    <tr>\n",
       "      <th>mean</th>\n",
       "      <td>58096.091198</td>\n",
       "      <td>59979.116352</td>\n",
       "      <td>99.598791</td>\n",
       "      <td>6.203465</td>\n",
       "      <td>564.843464</td>\n",
       "    </tr>\n",
       "    <tr>\n",
       "      <th>std</th>\n",
       "      <td>44146.907337</td>\n",
       "      <td>66410.098298</td>\n",
       "      <td>25.399315</td>\n",
       "      <td>0.995472</td>\n",
       "      <td>1818.294220</td>\n",
       "    </tr>\n",
       "    <tr>\n",
       "      <th>min</th>\n",
       "      <td>1.000000</td>\n",
       "      <td>2.000000</td>\n",
       "      <td>0.000000</td>\n",
       "      <td>0.000000</td>\n",
       "      <td>0.000000</td>\n",
       "    </tr>\n",
       "    <tr>\n",
       "      <th>25%</th>\n",
       "      <td>6692.000000</td>\n",
       "      <td>15055.500000</td>\n",
       "      <td>89.000000</td>\n",
       "      <td>5.700000</td>\n",
       "      <td>26.000000</td>\n",
       "    </tr>\n",
       "    <tr>\n",
       "      <th>50%</th>\n",
       "      <td>63645.000000</td>\n",
       "      <td>37744.000000</td>\n",
       "      <td>97.000000</td>\n",
       "      <td>6.300000</td>\n",
       "      <td>78.000000</td>\n",
       "    </tr>\n",
       "    <tr>\n",
       "      <th>75%</th>\n",
       "      <td>98602.500000</td>\n",
       "      <td>77228.000000</td>\n",
       "      <td>110.000000</td>\n",
       "      <td>6.900000</td>\n",
       "      <td>293.000000</td>\n",
       "    </tr>\n",
       "    <tr>\n",
       "      <th>max</th>\n",
       "      <td>131258.000000</td>\n",
       "      <td>418029.000000</td>\n",
       "      <td>566.000000</td>\n",
       "      <td>10.000000</td>\n",
       "      <td>36373.000000</td>\n",
       "    </tr>\n",
       "  </tbody>\n",
       "</table>\n",
       "</div>"
      ],
      "text/plain": [
       "             movieId         tmdbid       runtime  vote_average    vote_count\n",
       "count   25483.000000   25483.000000  25483.000000  25483.000000  25483.000000\n",
       "mean    58096.091198   59979.116352     99.598791      6.203465    564.843464\n",
       "std     44146.907337   66410.098298     25.399315      0.995472   1818.294220\n",
       "min         1.000000       2.000000      0.000000      0.000000      0.000000\n",
       "25%      6692.000000   15055.500000     89.000000      5.700000     26.000000\n",
       "50%     63645.000000   37744.000000     97.000000      6.300000     78.000000\n",
       "75%     98602.500000   77228.000000    110.000000      6.900000    293.000000\n",
       "max    131258.000000  418029.000000    566.000000     10.000000  36373.000000"
      ]
     },
     "execution_count": 4,
     "metadata": {},
     "output_type": "execute_result"
    }
   ],
   "source": [
    "df_movies.describe()"
   ]
  },
  {
   "cell_type": "code",
   "execution_count": 11,
   "metadata": {},
   "outputs": [
    {
     "name": "stdout",
     "output_type": "stream",
     "text": [
      "<class 'pandas.core.frame.DataFrame'>\n",
      "RangeIndex: 25483 entries, 0 to 25482\n",
      "Data columns (total 10 columns):\n",
      " #   Column                Non-Null Count  Dtype  \n",
      "---  ------                --------------  -----  \n",
      " 0   movieId               25483 non-null  int64  \n",
      " 1   title                 25483 non-null  object \n",
      " 2   genres                25483 non-null  object \n",
      " 3   tmdbid                25483 non-null  int64  \n",
      " 4   overview              25483 non-null  object \n",
      " 5   production_countries  25483 non-null  object \n",
      " 6   runtime               25483 non-null  int64  \n",
      " 7   spoken_languages      25433 non-null  object \n",
      " 8   vote_average          25483 non-null  float64\n",
      " 9   vote_count            25483 non-null  int64  \n",
      "dtypes: float64(1), int64(4), object(5)\n",
      "memory usage: 1.9+ MB\n"
     ]
    }
   ],
   "source": [
    "df_movies.info()"
   ]
  },
  {
   "cell_type": "code",
   "execution_count": 8,
   "metadata": {},
   "outputs": [],
   "source": [
    "# Загрузка модели и токенизатора\n",
    "model_name = 'intfloat/multilingual-e5-large'\n",
    "tokenizer = AutoTokenizer.from_pretrained(model_name)\n",
    "model = AutoModel.from_pretrained(model_name)\n",
    "\n",
    "# Функция для генерации эмбеддингов\n",
    "def get_embedding(text):\n",
    "    inputs = tokenizer(text, return_tensors=\"pt\", padding=True, truncation=True)\n",
    "    outputs = model(**inputs)\n",
    "    # Используем среднее по последнему скрытому слою\n",
    "    embeddings = outputs.last_hidden_state.mean(dim=1).detach().numpy()\n",
    "    return embeddings\n",
    "\n",
    "# Обработка каждого фильма для получения эмбеддинга\n",
    "def generate_movie_embeddings(movie):\n",
    "    # Конкатенация данных из нужных колонок\n",
    "    text = f\"{movie['title']} | {movie['genres']} | {movie['overview']} | {movie['production_countries']} | {movie['runtime']} | {movie['spoken_languages']} | {movie['vote_average']} | {movie['vote_count']}\"\n",
    "    return get_embedding(text)"
   ]
  },
  {
   "cell_type": "code",
   "execution_count": 9,
   "metadata": {},
   "outputs": [
    {
     "name": "stdout",
     "output_type": "stream",
     "text": [
      "   movieId                                          embedding\n",
      "0        1  [[1.2067407, -0.9202704, -0.8746483, -1.03731,...\n",
      "1        2  [[1.011993, -0.33529368, -0.79698354, -0.74171...\n",
      "2        3  [[0.9790182, -0.26317513, -1.216532, -1.310239...\n"
     ]
    }
   ],
   "source": [
    "# Пример данных\n",
    "data = {\n",
    "    \"movieId\": [1, 2, 3],\n",
    "    \"title\": [\"Toy Story (1995)\", \"Jumanji (1995)\", \"Grumpier Old Men (1995)\"],\n",
    "    \"genres\": [\"Adventure,Animation,Children,Comedy,Fantasy\", \"Adventure,Children,Fantasy\", \"Comedy,Romance\"],\n",
    "    \"overview\": [\n",
    "        \"Led by Woody, Andy's toys live happily in his room until Andy's birthday brings Buzz Lightyear onto the scene.\",\n",
    "        \"When siblings Judy and Peter discover an enchanted board game that opens the door to a magical world.\",\n",
    "        \"A family wedding reignites the ancient feud between next-door neighbors and fishing buddies John and Max.\"\n",
    "    ],\n",
    "    \"production_countries\": [\"United States of America\", \"United States of America\", \"United States of America\"],\n",
    "    \"runtime\": [81, 104, 101],\n",
    "    \"spoken_languages\": [\"English\", \"English,Français\", \"English\"],\n",
    "    \"vote_average\": [8.0, 7.2, 6.5],\n",
    "    \"vote_count\": [18253, 10435, 374]\n",
    "}\n",
    "\n",
    "# Создание DataFrame\n",
    "movies_df = pd.DataFrame(data)\n",
    "\n",
    "# Применение функции для каждого фильма\n",
    "movies_df['embedding'] = movies_df.apply(generate_movie_embeddings, axis=1)\n",
    "\n",
    "# Вывод результатов\n",
    "print(movies_df[['movieId', 'embedding']])"
   ]
  },
  {
   "cell_type": "code",
   "execution_count": 10,
   "metadata": {},
   "outputs": [
    {
     "data": {
      "text/plain": [
       "(1024,)"
      ]
     },
     "execution_count": 10,
     "metadata": {},
     "output_type": "execute_result"
    }
   ],
   "source": [
    "movies_df.embedding.iloc[0][0].shape"
   ]
  }
 ],
 "metadata": {
  "kernelspec": {
   "display_name": "cinema",
   "language": "python",
   "name": "python3"
  },
  "language_info": {
   "codemirror_mode": {
    "name": "ipython",
    "version": 3
   },
   "file_extension": ".py",
   "mimetype": "text/x-python",
   "name": "python",
   "nbconvert_exporter": "python",
   "pygments_lexer": "ipython3",
   "version": "3.11.9"
  }
 },
 "nbformat": 4,
 "nbformat_minor": 2
}
