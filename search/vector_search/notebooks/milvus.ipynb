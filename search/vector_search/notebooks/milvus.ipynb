{
 "cells": [
  {
   "cell_type": "code",
   "execution_count": 18,
   "metadata": {},
   "outputs": [],
   "source": [
    "from pymilvus import connections, db, FieldSchema, CollectionSchema, DataType, Collection, utility\n",
    "\n",
    "import pandas as pd\n",
    "\n",
    "from transformers import AutoTokenizer, AutoModel\n",
    "import torch\n",
    "from tqdm import tqdm"
   ]
  },
  {
   "cell_type": "code",
   "execution_count": 4,
   "metadata": {},
   "outputs": [],
   "source": [
    "conn = connections.connect(host=\"127.0.0.1\", port=19530)\n",
    "\n",
    "# database = db.create_database(\"movies_database\")"
   ]
  },
  {
   "cell_type": "code",
   "execution_count": 7,
   "metadata": {},
   "outputs": [],
   "source": [
    "db.using_database(\"movies_database\")"
   ]
  },
  {
   "cell_type": "code",
   "execution_count": 22,
   "metadata": {},
   "outputs": [],
   "source": [
    "# connections.disconnect(alias=\"default\")"
   ]
  },
  {
   "cell_type": "code",
   "execution_count": 20,
   "metadata": {},
   "outputs": [
    {
     "data": {
      "text/plain": [
       "['default']"
      ]
     },
     "execution_count": 20,
     "metadata": {},
     "output_type": "execute_result"
    }
   ],
   "source": [
    "# db.drop_database(\"movies_database\")\n",
    "\n",
    "# db.list_database()"
   ]
  },
  {
   "cell_type": "code",
   "execution_count": 19,
   "metadata": {},
   "outputs": [],
   "source": [
    "# Описание схемы для эмбеддингов фильмов\n",
    "fields = [\n",
    "    FieldSchema(name=\"movie_id\", dtype=DataType.INT64, is_primary=True, auto_id=False),\n",
    "    FieldSchema(name=\"embedding\", dtype=DataType.FLOAT_VECTOR, dim=1024)\n",
    "]\n",
    "\n",
    "# Создание схемы коллекции\n",
    "schema = CollectionSchema(fields, description=\"Movie embeddings collection\")\n",
    "\n",
    "if \"movies_collection\" in utility.list_collections():\n",
    "    Collection(\"movies_collection\").drop()\n",
    "\n",
    "# Создание коллекции\n",
    "collection = Collection(name=\"movies_collection\", schema=schema)\n",
    "\n",
    "# Определение параметров индекса\n",
    "index_params = {\n",
    "    \"metric_type\": \"IP\",       # Тип метрики расстояния, например, L2 или IP\n",
    "    \"index_type\": \"IVF_FLAT\",  # Тип индекса, например, IVF_FLAT\n",
    "    \"params\": {\"nlist\": 512}   # Параметры индекса (nlist – это число кластеров)\n",
    "}\n",
    "\n",
    "# Создание индекса для поля embedding\n",
    "collection.create_index(field_name=\"embedding\", index_params=index_params)\n",
    "\n",
    "# Убедитесь, что индекс создан\n",
    "utility.index_building_progress(\"movies_collection\")\n",
    "\n",
    "# Загрузка коллекции в память (Milvus управляет хранением в памяти для быстрой обработки)\n",
    "collection.load()"
   ]
  },
  {
   "cell_type": "code",
   "execution_count": 10,
   "metadata": {},
   "outputs": [],
   "source": [
    "df_movies = pd.read_csv('../../data/merged_movies.csv')\n",
    "df_movies_small = df_movies.iloc[:800]"
   ]
  },
  {
   "cell_type": "code",
   "execution_count": 20,
   "metadata": {},
   "outputs": [],
   "source": [
    "# # device = torch.device(\"cuda\" if torch.cuda.is_available() else \"cpu\")\n",
    "# device = torch.device(\"mps\" if torch.backends.mps.is_available() else \"cpu\") # для мака\n",
    "\n",
    "# model_name = 'intfloat/multilingual-e5-large'\n",
    "# tokenizer = AutoTokenizer.from_pretrained(model_name)\n",
    "# model = AutoModel.from_pretrained(model_name).to(device)\n",
    "\n",
    "# # Функция для генерации эмбеддингов\n",
    "# def get_embedding(text):\n",
    "#     inputs = tokenizer(text, return_tensors=\"pt\", padding=True, truncation=True).to(device)\n",
    "#     outputs = model(**inputs)\n",
    "#     # Переносим тензор на CPU перед дальнейшими преобразованиями\n",
    "#     embeddings = outputs.last_hidden_state.mean(dim=1).detach().numpy()\n",
    "#     return embeddings[0]\n",
    "\n",
    "# Загрузка модели и токенизатора\n",
    "model_name = 'intfloat/multilingual-e5-large'\n",
    "tokenizer = AutoTokenizer.from_pretrained(model_name)\n",
    "model = AutoModel.from_pretrained(model_name)\n",
    "\n",
    "# # Функция для генерации эмбеддингов\n",
    "def get_embedding(text):\n",
    "    inputs = tokenizer(text, return_tensors=\"pt\", padding=True, truncation=True)\n",
    "    outputs = model(**inputs)\n",
    "    # Используем среднее по последнему скрытому слою\n",
    "    embeddings = outputs.last_hidden_state.mean(dim=1).detach().numpy()\n",
    "    return embeddings[0]\n",
    "\n",
    "\n",
    "\n",
    "# Обработка каждого фильма для получения эмбеддинга\n",
    "def generate_movie_embeddings(movie):\n",
    "    # Конкатенация данных из нужных колонок\n",
    "    text = f\"{movie['title']} | {movie['genres']} | {movie['overview']} | {movie['production_countries']} | {movie['runtime']} | {movie['spoken_languages']} | {movie['vote_average']} | {movie['vote_count']}\"\n",
    "    return get_embedding(text)"
   ]
  },
  {
   "cell_type": "code",
   "execution_count": 21,
   "metadata": {},
   "outputs": [
    {
     "name": "stdout",
     "output_type": "stream",
     "text": [
      "Generating embeddings...\n"
     ]
    },
    {
     "name": "stderr",
     "output_type": "stream",
     "text": [
      "100%|██████████| 800/800 [02:46<00:00,  4.81it/s]\n",
      "/var/folders/3_/0zlq__wj47xg9llgg6qg6jzc0000gn/T/ipykernel_23298/3182497603.py:3: SettingWithCopyWarning: \n",
      "A value is trying to be set on a copy of a slice from a DataFrame.\n",
      "Try using .loc[row_indexer,col_indexer] = value instead\n",
      "\n",
      "See the caveats in the documentation: https://pandas.pydata.org/pandas-docs/stable/user_guide/indexing.html#returning-a-view-versus-a-copy\n",
      "  df_movies_small['embedding'] = df_movies_small.progress_apply(generate_movie_embeddings, axis=1)\n"
     ]
    },
    {
     "name": "stdout",
     "output_type": "stream",
     "text": [
      "Inserting embeddings into Milvus...\n"
     ]
    },
    {
     "name": "stderr",
     "output_type": "stream",
     "text": [
      "100%|██████████| 8/8 [00:00<00:00, 36.35it/s]"
     ]
    },
    {
     "name": "stdout",
     "output_type": "stream",
     "text": [
      "Inserted 0 movie embeddings into Milvus.\n"
     ]
    },
    {
     "name": "stderr",
     "output_type": "stream",
     "text": [
      "\n"
     ]
    }
   ],
   "source": [
    "print(\"Generating embeddings...\")\n",
    "tqdm.pandas()  # Инициализация прогресс-бара для pandas\n",
    "df_movies_small['embedding'] = df_movies_small.progress_apply(generate_movie_embeddings, axis=1)\n",
    "\n",
    "# Преобразование данных для вставки в Milvus\n",
    "movie_ids = df_movies_small['movieId'].tolist()\n",
    "embeddings = df_movies_small['embedding'].tolist()\n",
    "\n",
    "print(\"Inserting embeddings into Milvus...\")\n",
    "for i in tqdm(range(0, len(movie_ids), 100)):  # Вставка батчами по 100 записей\n",
    "    batch_movie_ids = movie_ids[i:i+100]\n",
    "    batch_embeddings = embeddings[i:i+100]\n",
    "    collection.insert([batch_movie_ids, batch_embeddings])\n",
    "\n",
    "# Проверка успешности вставки\n",
    "print(f\"Inserted {collection.num_entities} movie embeddings into Milvus.\")"
   ]
  },
  {
   "cell_type": "code",
   "execution_count": 16,
   "metadata": {},
   "outputs": [
    {
     "name": "stdout",
     "output_type": "stream",
     "text": [
      "Movie ID: 1\n",
      "Movie ID: 2\n",
      "Movie ID: 3\n",
      "Movie ID: 4\n",
      "Movie ID: 5\n"
     ]
    }
   ],
   "source": [
    "query_results = collection.query(\n",
    "    expr=\"\",\n",
    "    output_fields=[\"movie_id\", \"embedding\"],  # поля, которые хотим извлечь\n",
    "    limit=5  # ограничение на количество возвращаемых объектов\n",
    ")\n",
    "\n",
    "for result in query_results:\n",
    "    print(f\"Movie ID: {result['movie_id']}\")"
   ]
  },
  {
   "cell_type": "code",
   "execution_count": 17,
   "metadata": {},
   "outputs": [
    {
     "name": "stdout",
     "output_type": "stream",
     "text": [
      "Top recommended movies:\n",
      "(12, 330.3630676269531) 11    Dracula: Dead and Loving It (1995)\n",
      "Name: title, dtype: object\n",
      "(253, 372.6783752441406) 246    Interview with the Vampire: The Vampire Chroni...\n",
      "Name: title, dtype: object\n",
      "(273, 377.08538818359375) 266    Mary Shelley's Frankenstein (Frankenstein) (1994)\n",
      "Name: title, dtype: object\n",
      "(653, 378.4429626464844) 633    Dragonheart (1996)\n",
      "Name: title, dtype: object\n",
      "(184, 378.5644836425781) 178    Nadja (1994)\n",
      "Name: title, dtype: object\n"
     ]
    }
   ],
   "source": [
    "# Функция для поиска фильмов по текстовому запросу\n",
    "def search_movies(query, collection_name=\"movies_collection\", top_k=5):\n",
    "    # Получение эмбеддинга запроса\n",
    "    query_embedding = get_embedding(query)\n",
    "    \n",
    "    # Подключение к коллекции Milvus\n",
    "    collection = Collection(collection_name)\n",
    "    collection.load()  # Загрузка коллекции в память (если не загружена)\n",
    "    \n",
    "    # Параметры поиска\n",
    "    search_params = {\n",
    "        \"metric_type\": \"IP\",  # Тип метрики для расстояния\n",
    "        \"params\": {\"nprobe\": 20}  # Число кластеров для поиска\n",
    "    }\n",
    "    \n",
    "    # Выполнение поиска в Milvus\n",
    "    results = collection.search(\n",
    "        data=[query_embedding],  # Векторный запрос\n",
    "        anns_field=\"embedding\",  # Поле для поиска\n",
    "        param=search_params,\n",
    "        limit=top_k,  # Число возвращаемых результатов\n",
    "        output_fields=[\"movie_id\"]  # Возвращаем только ID фильмов\n",
    "    )\n",
    "    \n",
    "    # Форматирование результатов\n",
    "    movie_ids = [result.id for result in results[0]]\n",
    "    distances = [result.distance for result in results[0]]\n",
    "    return list(zip(movie_ids, distances))  # Возвращаем ID фильмов и их расстояния\n",
    "\n",
    "# Пример использования функции\n",
    "query = \"dracula\"\n",
    "top_movies = search_movies(query)\n",
    "print(\"Top recommended movies:\")\n",
    "for movie in top_movies:\n",
    "    print(movie, df_movies_small[df_movies_small['movieId'] == movie[0]]['title'])"
   ]
  },
  {
   "cell_type": "code",
   "execution_count": 52,
   "metadata": {},
   "outputs": [
    {
     "data": {
      "text/html": [
       "<div>\n",
       "<style scoped>\n",
       "    .dataframe tbody tr th:only-of-type {\n",
       "        vertical-align: middle;\n",
       "    }\n",
       "\n",
       "    .dataframe tbody tr th {\n",
       "        vertical-align: top;\n",
       "    }\n",
       "\n",
       "    .dataframe thead th {\n",
       "        text-align: right;\n",
       "    }\n",
       "</style>\n",
       "<table border=\"1\" class=\"dataframe\">\n",
       "  <thead>\n",
       "    <tr style=\"text-align: right;\">\n",
       "      <th></th>\n",
       "      <th>movieId</th>\n",
       "      <th>title</th>\n",
       "      <th>genres</th>\n",
       "      <th>tmdbid</th>\n",
       "      <th>overview</th>\n",
       "      <th>production_countries</th>\n",
       "      <th>runtime</th>\n",
       "      <th>spoken_languages</th>\n",
       "      <th>vote_average</th>\n",
       "      <th>vote_count</th>\n",
       "      <th>embedding</th>\n",
       "    </tr>\n",
       "  </thead>\n",
       "  <tbody>\n",
       "    <tr>\n",
       "      <th>0</th>\n",
       "      <td>1</td>\n",
       "      <td>Toy Story (1995)</td>\n",
       "      <td>Adventure,Animation,Children,Comedy,Fantasy</td>\n",
       "      <td>862</td>\n",
       "      <td>Led by Woody, Andy's toys live happily in his ...</td>\n",
       "      <td>United States of America</td>\n",
       "      <td>81</td>\n",
       "      <td>English</td>\n",
       "      <td>8.0</td>\n",
       "      <td>18253</td>\n",
       "      <td>[1.2761759, -0.9278991, -0.5428292, -1.0286126...</td>\n",
       "    </tr>\n",
       "    <tr>\n",
       "      <th>1</th>\n",
       "      <td>2</td>\n",
       "      <td>Jumanji (1995)</td>\n",
       "      <td>Adventure,Children,Fantasy</td>\n",
       "      <td>8844</td>\n",
       "      <td>When siblings Judy and Peter discover an encha...</td>\n",
       "      <td>United States of America</td>\n",
       "      <td>104</td>\n",
       "      <td>English,Français</td>\n",
       "      <td>7.2</td>\n",
       "      <td>10435</td>\n",
       "      <td>[1.1884694, -0.116759725, -0.6679893, -0.49546...</td>\n",
       "    </tr>\n",
       "    <tr>\n",
       "      <th>2</th>\n",
       "      <td>3</td>\n",
       "      <td>Grumpier Old Men (1995)</td>\n",
       "      <td>Comedy,Romance</td>\n",
       "      <td>15602</td>\n",
       "      <td>A family wedding reignites the ancient feud be...</td>\n",
       "      <td>United States of America</td>\n",
       "      <td>101</td>\n",
       "      <td>English</td>\n",
       "      <td>6.5</td>\n",
       "      <td>374</td>\n",
       "      <td>[0.919276, -0.29138383, -1.1251851, -1.1663789...</td>\n",
       "    </tr>\n",
       "  </tbody>\n",
       "</table>\n",
       "</div>"
      ],
      "text/plain": [
       "   movieId                    title  \\\n",
       "0        1         Toy Story (1995)   \n",
       "1        2           Jumanji (1995)   \n",
       "2        3  Grumpier Old Men (1995)   \n",
       "\n",
       "                                        genres  tmdbid  \\\n",
       "0  Adventure,Animation,Children,Comedy,Fantasy     862   \n",
       "1                   Adventure,Children,Fantasy    8844   \n",
       "2                               Comedy,Romance   15602   \n",
       "\n",
       "                                            overview  \\\n",
       "0  Led by Woody, Andy's toys live happily in his ...   \n",
       "1  When siblings Judy and Peter discover an encha...   \n",
       "2  A family wedding reignites the ancient feud be...   \n",
       "\n",
       "       production_countries  runtime  spoken_languages  vote_average  \\\n",
       "0  United States of America       81           English           8.0   \n",
       "1  United States of America      104  English,Français           7.2   \n",
       "2  United States of America      101           English           6.5   \n",
       "\n",
       "   vote_count                                          embedding  \n",
       "0       18253  [1.2761759, -0.9278991, -0.5428292, -1.0286126...  \n",
       "1       10435  [1.1884694, -0.116759725, -0.6679893, -0.49546...  \n",
       "2         374  [0.919276, -0.29138383, -1.1251851, -1.1663789...  "
      ]
     },
     "execution_count": 52,
     "metadata": {},
     "output_type": "execute_result"
    }
   ],
   "source": [
    "df_movies_small"
   ]
  }
 ],
 "metadata": {
  "kernelspec": {
   "display_name": "cinema",
   "language": "python",
   "name": "python3"
  },
  "language_info": {
   "codemirror_mode": {
    "name": "ipython",
    "version": 3
   },
   "file_extension": ".py",
   "mimetype": "text/x-python",
   "name": "python",
   "nbconvert_exporter": "python",
   "pygments_lexer": "ipython3",
   "version": "3.11.9"
  }
 },
 "nbformat": 4,
 "nbformat_minor": 2
}
