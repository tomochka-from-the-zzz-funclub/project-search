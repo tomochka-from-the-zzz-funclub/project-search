{
 "cells": [
  {
   "cell_type": "code",
   "execution_count": 1,
   "metadata": {},
   "outputs": [],
   "source": [
    "import pandas as pd\n",
    "from elasticsearch import Elasticsearch, helpers"
   ]
  },
  {
   "cell_type": "code",
   "execution_count": 61,
   "metadata": {},
   "outputs": [
    {
     "name": "stderr",
     "output_type": "stream",
     "text": [
      "/var/folders/3_/0zlq__wj47xg9llgg6qg6jzc0000gn/T/ipykernel_22781/3323499990.py:2: DeprecationWarning: The 'http_auth' parameter is deprecated. Use 'basic_auth' or 'bearer_auth' parameters instead\n",
      "  es = Elasticsearch(\"http://localhost:9200\", http_auth=(\"elastic\", \"password123\"))\n"
     ]
    },
    {
     "data": {
      "text/plain": [
       "ObjectApiResponse({'acknowledged': True, 'shards_acknowledged': True, 'index': 'movies'})"
      ]
     },
     "execution_count": 61,
     "metadata": {},
     "output_type": "execute_result"
    }
   ],
   "source": [
    "# Подключение к Elasticsearch\n",
    "es = Elasticsearch(\"http://localhost:9200\", http_auth=(\"elastic\", \"password123\"))\n",
    "\n",
    "# Создание индекса для фильмов\n",
    "index_name = \"movies\"\n",
    "\n",
    "# Создание индекса с анализаторами и синонимами\n",
    "index_body = {\n",
    "    \"settings\": {\n",
    "        \"analysis\": {\n",
    "            \"filter\": {\n",
    "                \"synonym_filter\": {\n",
    "                    \"type\": \"synonym\",\n",
    "                    \"synonyms\": [\n",
    "                        \"sci-fi, science fiction\",\n",
    "                        \"romcom, romantic comedy\",\n",
    "                        \"thriller, suspense\"\n",
    "                    ]\n",
    "                },\n",
    "                \"english_stemmer\": {\n",
    "                    \"type\": \"stemmer\",\n",
    "                    \"language\": \"english\"\n",
    "                }\n",
    "            },\n",
    "            \"analyzer\": {\n",
    "                \"synonym_analyzer\": {\n",
    "                    \"type\": \"custom\",\n",
    "                    \"tokenizer\": \"standard\",\n",
    "                    \"filter\": [\"lowercase\", \"synonym_filter\", \"english_stemmer\"]\n",
    "                }\n",
    "            }\n",
    "        }\n",
    "    },\n",
    "    \"mappings\": {\n",
    "        \"properties\": {\n",
    "            \"movieId\": {\"type\": \"integer\"},\n",
    "            \"title\": {\"type\": \"text\", \"analyzer\": \"synonym_analyzer\"},\n",
    "            \"genres\": {\"type\": \"text\", \"analyzer\": \"synonym_analyzer\"},\n",
    "            \"overview\": {\"type\": \"text\", \"analyzer\": \"synonym_analyzer\"},\n",
    "            \"production_countries\": {\"type\": \"text\"},\n",
    "            \"runtime\": {\"type\": \"integer\"},\n",
    "            \"spoken_languages\": {\"type\": \"text\"},\n",
    "            \"vote_average\": {\"type\": \"float\"},\n",
    "            \"vote_count\": {\"type\": \"integer\"}\n",
    "        }\n",
    "    }\n",
    "}\n",
    "# Удаляем индекс, если он уже существует, и создаем его заново\n",
    "if es.indices.exists(index=index_name):\n",
    "    es.indices.delete(index=index_name)\n",
    "es.indices.create(index=index_name, body=index_body)"
   ]
  },
  {
   "cell_type": "code",
   "execution_count": 62,
   "metadata": {},
   "outputs": [],
   "source": [
    "df_movies = pd.read_csv('../data/merged_movies.csv')\n",
    "df_movies = df_movies.dropna(how='any')\n",
    "df_movies_small = df_movies.iloc[:800]"
   ]
  },
  {
   "cell_type": "code",
   "execution_count": 66,
   "metadata": {},
   "outputs": [
    {
     "name": "stdout",
     "output_type": "stream",
     "text": [
      "Movies indexed successfully.\n"
     ]
    }
   ],
   "source": [
    "# Подготовка данных для индексации в Elasticsearch\n",
    "def generate_movie_actions(df):\n",
    "    for _, row in df.iterrows():\n",
    "        yield {\n",
    "            \"_index\": index_name,\n",
    "            \"_id\": row[\"movieId\"],  # movieId используется как уникальный идентификатор\n",
    "            \"_source\": {\n",
    "                \"movieId\": row[\"movieId\"],\n",
    "                \"title\": row[\"title\"],\n",
    "                \"genres\": row[\"genres\"],\n",
    "                \"tmdbid\": row[\"tmdbid\"],\n",
    "                \"overview\": row[\"overview\"],\n",
    "                \"production_countries\": row[\"production_countries\"],\n",
    "                \"runtime\": row[\"runtime\"],\n",
    "                \"spoken_languages\": row[\"spoken_languages\"],\n",
    "                \"vote_average\": row[\"vote_average\"],\n",
    "                \"vote_count\": row[\"vote_count\"]\n",
    "            }\n",
    "        }\n",
    "\n",
    "# Индексация данных о фильмах\n",
    "helpers.bulk(es, generate_movie_actions(df_movies))\n",
    "\n",
    "print(\"Movies indexed successfully.\")\n"
   ]
  },
  {
   "cell_type": "code",
   "execution_count": 74,
   "metadata": {},
   "outputs": [
    {
     "name": "stdout",
     "output_type": "stream",
     "text": [
      "Top recommended movies:\n",
      "{'movieId': 1339, 'title': \"Dracula (Bram Stoker's Dracula) (1992)\", 'genres': 'Fantasy,Horror,Romance,Thriller', 'overview': 'In 19th century England, Count Dracula travels to London and meets Mina Harker, a young woman who appears as the reincarnation of his lost love.', 'score': 1869111.1}\n",
      "{'movieId': 114795, 'title': 'Dracula Untold (2014)', 'genres': 'Action,Drama,Fantasy', 'overview': \"Vlad Tepes is a great hero, but when he learns the Sultan is preparing for battle and needs to form an army of 1,000 boys, he vows to find a way to protect his family. Vlad turns to dark forces in order to get the power to destroy his enemies and agrees to go from hero to monster as he's turned into the mythological vampire, Dracula.\", 'score': 1651774.9}\n",
      "{'movieId': 97225, 'title': 'Hotel Transylvania (2012)', 'genres': 'Animation,Children,Comedy', 'overview': \"Welcome to Hotel Transylvania, Dracula's lavish five-stake resort, where monsters and their families can live it up and no humans are allowed. One special weekend, Dracula has invited all his best friends to celebrate his beloved daughter Mavis's 118th birthday. For Dracula catering to all of these legendary monsters is no problem but the party really starts when one ordinary guy stumbles into the hotel and changes everything!\", 'score': 1409950.9}\n",
      "{'movieId': 7454, 'title': 'Van Helsing (2004)', 'genres': 'Action,Adventure,Fantasy,Horror', 'overview': \"Famed monster slayer Gabriel Van Helsing is dispatched to Transylvania to assist the last of the Valerious bloodline in defeating Count Dracula. Anna Valerious reveals that Dracula has formed an unholy alliance with Dr. Frankenstein's monster and is hell-bent on exacting a centuries-old curse on her family.\", 'score': 624877.3}\n",
      "{'movieId': 2644, 'title': 'Dracula (1931)', 'genres': 'Horror', 'overview': 'British estate agent Renfield travels to Transylvania to meet the mysterious Count Dracula, who is interested in leasing a castle in London. After Dracula enslaves Renfield and drives him to insanity, the pair sail to London together and Dracula, a secret vampire, begins preying on London socialites.', 'score': 406675.94}\n"
     ]
    }
   ],
   "source": [
    "def search_movie(query, index_name=\"movies\", top_k=5):\n",
    "    \"\"\"\n",
    "    Функция для поиска фильмов по текстовому запросу.\n",
    "    \n",
    "    Args:\n",
    "        query (str): Текст запроса.\n",
    "        index_name (str): Название индекса.\n",
    "        top_k (int): Количество возвращаемых результатов.\n",
    "    \n",
    "    Returns:\n",
    "        list: Список найденных фильмов.\n",
    "    \"\"\"\n",
    "    # Тело запроса\n",
    "    search_body = {\n",
    "        \"query\": {\n",
    "            \"function_score\": {\n",
    "                \"query\": {\n",
    "                    \"multi_match\": {\n",
    "                        \"query\": query,\n",
    "                        \"fields\": [\"title^3\", \"genres^2\", \"overview\", \"production_countries\", \"spoken_languages\"],\n",
    "                        \"fuzziness\": \"AUTO\"\n",
    "                    }\n",
    "                },\n",
    "                \"boost_mode\": \"multiply\",\n",
    "                \"functions\": [\n",
    "                    {\n",
    "                        \"field_value_factor\": {\n",
    "                            \"field\": \"vote_average\",\n",
    "                            \"factor\": 1.5,\n",
    "                            \"missing\": 0\n",
    "                        }\n",
    "                    },\n",
    "                    {\n",
    "                        \"field_value_factor\": {\n",
    "                            \"field\": \"vote_count\",\n",
    "                            \"factor\": 1.2,\n",
    "                            \"missing\": 1\n",
    "                        }\n",
    "                    }\n",
    "                ]\n",
    "            }\n",
    "        },\n",
    "        \"size\": top_k\n",
    "    }\n",
    "    \n",
    "    # Выполнение запроса\n",
    "    response = es.search(index=index_name, body=search_body)\n",
    "    \n",
    "    # Обработка результатов\n",
    "    results = []\n",
    "    for hit in response[\"hits\"][\"hits\"]:\n",
    "        results.append({\n",
    "            \"movieId\": hit[\"_source\"][\"movieId\"],\n",
    "            \"title\": hit[\"_source\"][\"title\"],\n",
    "            \"genres\": hit[\"_source\"][\"genres\"],\n",
    "            \"overview\": hit[\"_source\"][\"overview\"],\n",
    "            \"score\": hit[\"_score\"]  # Релевантность к запросу\n",
    "        })\n",
    "    \n",
    "    return results\n",
    "\n",
    "# Пример использования функции\n",
    "query = \"dracula\"\n",
    "top_movies = search_movie(query)\n",
    "print(\"Top recommended movies:\")\n",
    "for movie in top_movies:\n",
    "    print(movie)\n"
   ]
  }
 ],
 "metadata": {
  "kernelspec": {
   "display_name": "cinema",
   "language": "python",
   "name": "python3"
  },
  "language_info": {
   "codemirror_mode": {
    "name": "ipython",
    "version": 3
   },
   "file_extension": ".py",
   "mimetype": "text/x-python",
   "name": "python",
   "nbconvert_exporter": "python",
   "pygments_lexer": "ipython3",
   "version": "3.11.9"
  }
 },
 "nbformat": 4,
 "nbformat_minor": 2
}
