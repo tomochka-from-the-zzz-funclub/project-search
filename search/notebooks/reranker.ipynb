{
 "cells": [
  {
   "cell_type": "code",
   "execution_count": 1,
   "metadata": {},
   "outputs": [
    {
     "name": "stderr",
     "output_type": "stream",
     "text": [
      "/Users/riter/anaconda3/envs/cinema/lib/python3.11/site-packages/tqdm/auto.py:21: TqdmWarning: IProgress not found. Please update jupyter and ipywidgets. See https://ipywidgets.readthedocs.io/en/stable/user_install.html\n",
      "  from .autonotebook import tqdm as notebook_tqdm\n"
     ]
    }
   ],
   "source": [
    "\n",
    "from pymilvus import connections, db, FieldSchema, CollectionSchema, DataType, Collection, utility\n",
    "from elasticsearch import Elasticsearch, helpers\n",
    "\n",
    "import pandas as pd\n",
    "\n",
    "from transformers import AutoTokenizer, AutoModel, AutoModelForSequenceClassification\n",
    "import torch\n",
    "from tqdm import tqdm"
   ]
  },
  {
   "cell_type": "code",
   "execution_count": 2,
   "metadata": {},
   "outputs": [],
   "source": [
    "df_movies = pd.read_csv('../data/merged_movies.csv')\n",
    "df_movies = df_movies.dropna(how='any')\n",
    "df_movies_small = df_movies.iloc[:800]"
   ]
  },
  {
   "cell_type": "markdown",
   "metadata": {},
   "source": [
    "# Mulvis"
   ]
  },
  {
   "cell_type": "code",
   "execution_count": 14,
   "metadata": {},
   "outputs": [],
   "source": [
    "conn = connections.connect(host=\"127.0.0.1\", port=19530)"
   ]
  },
  {
   "cell_type": "code",
   "execution_count": 15,
   "metadata": {},
   "outputs": [
    {
     "data": {
      "text/plain": [
       "['default', 'movies_database']"
      ]
     },
     "execution_count": 15,
     "metadata": {},
     "output_type": "execute_result"
    }
   ],
   "source": [
    "db.list_database()"
   ]
  },
  {
   "cell_type": "code",
   "execution_count": 16,
   "metadata": {},
   "outputs": [],
   "source": [
    "db.using_database(\"movies_database\")"
   ]
  },
  {
   "cell_type": "code",
   "execution_count": 17,
   "metadata": {},
   "outputs": [],
   "source": [
    "# Загрузка модели и токенизатора\n",
    "model_name = 'intfloat/multilingual-e5-large'\n",
    "tokenizer = AutoTokenizer.from_pretrained(model_name)\n",
    "model = AutoModel.from_pretrained(model_name)\n",
    "\n",
    "# Функция для генерации эмбеддингов\n",
    "def get_embedding(text):\n",
    "    inputs = tokenizer(text, return_tensors=\"pt\", padding=True, truncation=True)\n",
    "    outputs = model(**inputs)\n",
    "    # Используем среднее по последнему скрытому слою\n",
    "    embeddings = outputs.last_hidden_state.mean(dim=1).detach().numpy()\n",
    "    return embeddings[0]\n",
    "\n",
    "# Обработка каждого фильма для получения эмбеддинга\n",
    "def generate_movie_embeddings(movie):\n",
    "    # Конкатенация данных из нужных колонок\n",
    "    text = f\"{movie['title']} | {movie['genres']} | {movie['overview']} | {movie['production_countries']} | {movie['runtime']} | {movie['spoken_languages']} | {movie['vote_average']} | {movie['vote_count']}\"\n",
    "    return get_embedding(text)"
   ]
  },
  {
   "cell_type": "code",
   "execution_count": 18,
   "metadata": {},
   "outputs": [
    {
     "name": "stdout",
     "output_type": "stream",
     "text": [
      "Top recommended movies:\n",
      "(260, 23.380657196044922) 253    Star Wars: Episode IV - A New Hope (1977)\n",
      "Name: title, dtype: object\n",
      "(316, 23.26653289794922) 308    Stargate (1994)\n",
      "Name: title, dtype: object\n",
      "(44, 23.04047393798828) 43    Mortal Kombat (1995)\n",
      "Name: title, dtype: object\n",
      "(541, 23.00408935546875) 531    Blade Runner (1982)\n",
      "Name: title, dtype: object\n",
      "(386, 22.997859954833984) 377    S.F.W. (1994)\n",
      "Name: title, dtype: object\n"
     ]
    }
   ],
   "source": [
    "# Функция для поиска фильмов по текстовому запросу\n",
    "def search_movies_by_milvus(query, collection_name=\"movies_collection\", top_k=5):\n",
    "    # Получение эмбеддинга запроса\n",
    "    query_embedding = get_embedding(query)\n",
    "    \n",
    "    # Подключение к коллекции Milvus\n",
    "    collection = Collection(collection_name)\n",
    "    collection.load()  # Загрузка коллекции в память (если не загружена)\n",
    "    \n",
    "    # Параметры поиска\n",
    "    search_params = {\n",
    "        \"metric_type\": \"IP\",  # Тип метрики для расстояния\n",
    "        \"params\": {\"nprobe\": 10}  # Число кластеров для поиска\n",
    "    }\n",
    "    \n",
    "    # Выполнение поиска в Milvus\n",
    "    results = collection.search(\n",
    "        data=[query_embedding],  # Векторный запрос\n",
    "        anns_field=\"embedding\",  # Поле для поиска\n",
    "        param=search_params,\n",
    "        limit=top_k,  # Число возвращаемых результатов\n",
    "        output_fields=[\"movie_id\"]  # Возвращаем только ID фильмов\n",
    "    )\n",
    "    \n",
    "    # Форматирование результатов\n",
    "    movie_ids = [result.id for result in results[0]]\n",
    "    distances = [result.distance for result in results[0]]\n",
    "    return list(zip(movie_ids, distances))  # Возвращаем ID фильмов и их расстояния\n",
    "\n",
    "# Пример использования функции\n",
    "query = \"star wars\"\n",
    "top_movies = search_movies_by_milvus(query)\n",
    "print(\"Top recommended movies:\")\n",
    "for movie in top_movies:\n",
    "    print(movie, df_movies_small[df_movies_small['movieId'] == movie[0]]['title'])"
   ]
  },
  {
   "cell_type": "markdown",
   "metadata": {},
   "source": [
    "# ElasticSearch"
   ]
  },
  {
   "cell_type": "code",
   "execution_count": 8,
   "metadata": {},
   "outputs": [
    {
     "name": "stderr",
     "output_type": "stream",
     "text": [
      "/var/folders/3_/0zlq__wj47xg9llgg6qg6jzc0000gn/T/ipykernel_16001/3542443314.py:2: DeprecationWarning: The 'http_auth' parameter is deprecated. Use 'basic_auth' or 'bearer_auth' parameters instead\n",
      "  es = Elasticsearch(\"http://localhost:9200\", http_auth=(\"elastic\", \"password123\"))\n"
     ]
    }
   ],
   "source": [
    "# Подключение к Elasticsearch\n",
    "es = Elasticsearch(\"http://localhost:9200\", http_auth=(\"elastic\", \"password123\"))"
   ]
  },
  {
   "cell_type": "code",
   "execution_count": 9,
   "metadata": {},
   "outputs": [
    {
     "name": "stdout",
     "output_type": "stream",
     "text": [
      "Top recommended movies by elastic search:\n",
      "260, Star Wars: Episode IV - A New Hope (1977)\n",
      "1196, Star Wars: Episode V - The Empire Strikes Back (1980)\n",
      "1210, Star Wars: Episode VI - Return of the Jedi (1983)\n",
      "2628, Star Wars: Episode I - The Phantom Menace (1999)\n",
      "33493, Star Wars: Episode III - Revenge of the Sith (2005)\n"
     ]
    }
   ],
   "source": [
    "def search_movie_by_elastic(query, index_name=\"movies\", top_k=5):\n",
    "    \"\"\"\n",
    "    Функция для поиска фильмов по текстовому запросу.\n",
    "    \n",
    "    Args:\n",
    "        query (str): Текст запроса.\n",
    "        index_name (str): Название индекса.\n",
    "        top_k (int): Количество возвращаемых результатов.\n",
    "    \n",
    "    Returns:\n",
    "        list: Список найденных фильмов.\n",
    "    \"\"\"\n",
    "    # Тело запроса\n",
    "    search_body = {\n",
    "        \"query\": {\n",
    "            \"function_score\": {\n",
    "                \"query\": {\n",
    "                    \"multi_match\": {\n",
    "                        \"query\": query,\n",
    "                        \"fields\": [\"title^3\", \"genres^2\", \"overview\", \"production_countries\", \"spoken_languages\"],\n",
    "                        \"fuzziness\": \"AUTO\"\n",
    "                    }\n",
    "                },\n",
    "                \"boost_mode\": \"multiply\",\n",
    "                \"functions\": [\n",
    "                    {\n",
    "                        \"field_value_factor\": {\n",
    "                            \"field\": \"vote_average\",\n",
    "                            \"factor\": 1.5,\n",
    "                            \"missing\": 0\n",
    "                        }\n",
    "                    },\n",
    "                    {\n",
    "                        \"field_value_factor\": {\n",
    "                            \"field\": \"vote_count\",\n",
    "                            \"factor\": 1.2,\n",
    "                            \"missing\": 1\n",
    "                        }\n",
    "                    }\n",
    "                ]\n",
    "            }\n",
    "        },\n",
    "        \"size\": top_k\n",
    "    }\n",
    "    \n",
    "    # Выполнение запроса\n",
    "    response = es.search(index=index_name, body=search_body)\n",
    "    \n",
    "    # Обработка результатов\n",
    "    results = []\n",
    "    for hit in response[\"hits\"][\"hits\"]:\n",
    "        results.append({\n",
    "            \"movieId\": hit[\"_source\"][\"movieId\"],\n",
    "            \"title\": hit[\"_source\"][\"title\"],\n",
    "            \"genres\": hit[\"_source\"][\"genres\"],\n",
    "            \"overview\": hit[\"_source\"][\"overview\"],\n",
    "            \"score\": hit[\"_score\"]  # Релевантность к запросу\n",
    "        })\n",
    "    \n",
    "    return results\n",
    "\n",
    "# Пример использования функции\n",
    "query = \"star wars\"\n",
    "top_movies = search_movie_by_elastic(query)\n",
    "print(\"Top recommended movies by elastic search:\")\n",
    "for movie in top_movies:\n",
    "    print(f\"{movie['movieId']}, {movie['title']}\")\n"
   ]
  },
  {
   "cell_type": "markdown",
   "metadata": {},
   "source": [
    "# Final ranking"
   ]
  },
  {
   "cell_type": "code",
   "execution_count": 11,
   "metadata": {},
   "outputs": [],
   "source": [
    "reranker_model_name = \"amberoad/bert-multilingual-passage-reranking-msmarco\"\n",
    "reranker_tokenizer = AutoTokenizer.from_pretrained(reranker_model_name)\n",
    "reranker_model = AutoModelForSequenceClassification.from_pretrained(reranker_model_name)"
   ]
  },
  {
   "cell_type": "code",
   "execution_count": 13,
   "metadata": {},
   "outputs": [
    {
     "name": "stdout",
     "output_type": "stream",
     "text": [
      "Top final recommended movies:\n",
      "316 Stargate (1994) 5.921955585479736\n",
      "44 Mortal Kombat (1995) 5.908050537109375\n",
      "541 Blade Runner (1982) 5.899562835693359\n",
      "386 S.F.W. (1994) 5.888994216918945\n",
      "260 Star Wars: Episode IV - A New Hope (1977) 3.187070846557617\n"
     ]
    }
   ],
   "source": [
    "# Функция для финального ранжирования\n",
    "def final_ranking(query, top_k=5):\n",
    "    # Получение кандидатов из Milvus\n",
    "    milvus_candidates = search_movies_by_milvus(query)\n",
    "    milvus_results = [\n",
    "        {\n",
    "            \"movieId\": movie_id,\n",
    "            \"title\": df_movies_small[df_movies_small['movieId'] == movie_id]['title'].values[0],\n",
    "            \"overview\": df_movies_small[df_movies_small['movieId'] == movie_id]['overview'].values[0]\n",
    "        }\n",
    "        for movie_id, _ in milvus_candidates\n",
    "    ]\n",
    "\n",
    "    # Получение кандидатов из Elasticsearch\n",
    "    elastic_results = search_movie_by_elastic(query)\n",
    "\n",
    "    # Объединение уникальных кандидатов по movieId\n",
    "    unique_candidates = {result[\"movieId\"]: result for result in milvus_results + elastic_results}.values()\n",
    "\n",
    "    # Формирование входных данных для реранкера\n",
    "    inputs = []\n",
    "    for candidate in unique_candidates:\n",
    "        combined_text = f\"{candidate['title']} | {candidate['overview']}\"\n",
    "        inputs.append((query, combined_text))\n",
    "\n",
    "    # Токенизация запрос-кандидат пар\n",
    "    encoded_inputs = reranker_tokenizer(\n",
    "        [query for query, _ in inputs],\n",
    "        [text for _, text in inputs],\n",
    "        padding=True,\n",
    "        truncation=True,\n",
    "        return_tensors=\"pt\"\n",
    "    )\n",
    "\n",
    "    # Вычисление оценок релевантности\n",
    "    with torch.no_grad():\n",
    "        outputs = reranker_model(**encoded_inputs)\n",
    "        scores = outputs.logits[:, 0]\n",
    "\n",
    "    # Добавление ранжирующих оценок к кандидатам\n",
    "    reranked_candidates = [\n",
    "        {**candidate, \"rank_score\": score.item()}\n",
    "        for candidate, score in zip(unique_candidates, scores)\n",
    "    ]\n",
    "\n",
    "    # Сортировка кандидатов по оценке ранжирования и выбор top_k\n",
    "    final_results = sorted(reranked_candidates, key=lambda x: x[\"rank_score\"], reverse=True)[:top_k]\n",
    "\n",
    "    return final_results\n",
    "\n",
    "# Пример использования функции\n",
    "query = \"star wars\"\n",
    "top_k_results = final_ranking(query, top_k=5)\n",
    "\n",
    "print(\"Top final recommended movies:\")\n",
    "for result in top_k_results:\n",
    "    print(result[\"movieId\"], result[\"title\"], result[\"rank_score\"])\n"
   ]
  }
 ],
 "metadata": {
  "kernelspec": {
   "display_name": "cinema",
   "language": "python",
   "name": "python3"
  },
  "language_info": {
   "codemirror_mode": {
    "name": "ipython",
    "version": 3
   },
   "file_extension": ".py",
   "mimetype": "text/x-python",
   "name": "python",
   "nbconvert_exporter": "python",
   "pygments_lexer": "ipython3",
   "version": "3.11.9"
  }
 },
 "nbformat": 4,
 "nbformat_minor": 2
}
